{
 "cells": [
  {
   "cell_type": "markdown",
   "id": "98f6892f",
   "metadata": {},
   "source": [
    "This scraper was built within a time limit for Online Data Collection and Management exam. A \"data_scraper.json\" file that contains titles and urls of a custom made ai blog was given. Scraper gets the content in the blog in the correct order through h-tags and uses BeautifulSoup."
   ]
  },
  {
   "cell_type": "code",
   "execution_count": 3,
   "id": "58aac467",
   "metadata": {},
   "outputs": [
    {
     "name": "stdout",
     "output_type": "stream",
     "text": [
      "Is AI electricity or the telephone?\n"
     ]
    },
    {
     "ename": "UnsupportedOperation",
     "evalue": "not readable",
     "output_type": "error",
     "traceback": [
      "\u001b[1;31m---------------------------------------------------------------------------\u001b[0m",
      "\u001b[1;31mUnsupportedOperation\u001b[0m                      Traceback (most recent call last)",
      "Cell \u001b[1;32mIn[3], line 20\u001b[0m\n\u001b[0;32m     18\u001b[0m f \u001b[38;5;241m=\u001b[39m \u001b[38;5;28mopen\u001b[39m(\u001b[38;5;124m'\u001b[39m\u001b[38;5;124mdata_scraper.json\u001b[39m\u001b[38;5;124m'\u001b[39m,\u001b[38;5;124m'\u001b[39m\u001b[38;5;124mw\u001b[39m\u001b[38;5;124m'\u001b[39m) \u001b[38;5;66;03m# if you haven't renamed the file, you can open download.json instead.\u001b[39;00m\n\u001b[0;32m     19\u001b[0m urls \u001b[38;5;241m=\u001b[39m []\n\u001b[1;32m---> 20\u001b[0m \u001b[38;5;28;01mfor\u001b[39;00m item \u001b[38;5;129;01min\u001b[39;00m f\u001b[38;5;241m.\u001b[39mreadlines():\n\u001b[0;32m     21\u001b[0m     urls\u001b[38;5;241m.\u001b[39mappend(json\u001b[38;5;241m.\u001b[39mloads(item\u001b[38;5;241m.\u001b[39mreplace(\u001b[38;5;124m'\u001b[39m\u001b[38;5;130;01m\\n\u001b[39;00m\u001b[38;5;124m'\u001b[39m,\u001b[38;5;124m'\u001b[39m\u001b[38;5;124m'\u001b[39m)))\n\u001b[0;32m     22\u001b[0m urls\n",
      "\u001b[1;31mUnsupportedOperation\u001b[0m: not readable"
     ]
    }
   ],
   "source": [
    "# 1. Code to open one blog post with requests and bs4\n",
    "\n",
    "# Import necessary libraries\n",
    "import requests\n",
    "from bs4 import BeautifulSoup\n",
    "import json\n",
    "import time\n",
    "\n",
    "# Send an HTTP GET request to the specified URL with custom headers\n",
    "site_request = requests.get('https://www.artificial-intelligence.blog/ai-news/is-ai-electricity-or-the-telephone', headers={'User-Agents': 'Mozilla/5.0 (iPad; U; CPU OS 3_2_1 like Mac OS X; en-us) AppleWebKit/531.21.10 (KHTML, like Gecko) Mobile/7B405'})\n",
    "\n",
    "# Create a BeautifulSoup object to parse the HTML content of the page\n",
    "soup = BeautifulSoup(site_request.text)\n",
    "\n",
    "# Get title of the page (for demonstration purposes)\n",
    "print(soup.find('h1').get_text())\n",
    "\n",
    "f = open('data_scraper.json','r') # if you haven't renamed the file, you can open download.json instead.\n",
    "urls = []\n",
    "for item in f.readlines():\n",
    "    urls.append(json.loads(item.replace('\\n','')))\n",
    "urls"
   ]
  },
  {
   "cell_type": "code",
   "execution_count": 1,
   "id": "054bc56e",
   "metadata": {},
   "outputs": [
    {
     "ename": "NameError",
     "evalue": "name 'urls' is not defined",
     "output_type": "error",
     "traceback": [
      "\u001b[1;31m---------------------------------------------------------------------------\u001b[0m",
      "\u001b[1;31mNameError\u001b[0m                                 Traceback (most recent call last)",
      "Cell \u001b[1;32mIn[1], line 1\u001b[0m\n\u001b[1;32m----> 1\u001b[0m \u001b[38;5;28;01mfor\u001b[39;00m row \u001b[38;5;129;01min\u001b[39;00m urls:\n\u001b[0;32m      2\u001b[0m     url \u001b[38;5;241m=\u001b[39m row[\u001b[38;5;124m'\u001b[39m\u001b[38;5;124mxurl\u001b[39m\u001b[38;5;124m'\u001b[39m]\n\u001b[0;32m      3\u001b[0m     blog_urls\u001b[38;5;241m.\u001b[39mappend(url)\n",
      "\u001b[1;31mNameError\u001b[0m: name 'urls' is not defined"
     ]
    }
   ],
   "source": [
    "for row in urls:\n",
    "    url = row['xurl']\n",
    "    blog_urls.append(url)\n",
    "\n",
    "with open('ai_blog.json', 'w') as f:\n",
    "    for blog in blog_urls:\n",
    "        res = requests.get(blog)\n",
    "        res.encoding = res.apparent_encoding\n",
    "        res_source = res.text\n",
    "        soup = BeautifulSoup(res.text)\n",
    "\n",
    "        title = soup.find(class_='entry-title entry-title--large p-name').get_text()\n",
    "\n",
    "        if soup.find(class_=\"sqsrte-large\") is not None:\n",
    "            subtitle = soup.find(class_=\"sqsrte-large\").get_text()\n",
    "        else:\n",
    "            subtitle = 'No subtitles available'\n",
    "\n",
    "        images = soup.find_all('img')\n",
    "\n",
    "        image_links = []\n",
    "\n",
    "        for image in images:\n",
    "            image_links.append(image.get('src'))\n",
    "\n",
    "        html_contents = soup.find_all(class_='sqs-block html-block sqs-block-html')\n",
    "\n",
    "        content_all = []\n",
    "\n",
    "        timestamp = time.time()\n",
    "\n",
    "        for content in html_contents:\n",
    "            content_all.append(content.get_text())\n",
    "\n",
    "        ai_blog = {\n",
    "            'title': title,\n",
    "            'subtitle': subtitle,\n",
    "            'image_links': image_links,\n",
    "            'content': content_all,\n",
    "            'timestamp': timestamp\n",
    "        }\n",
    "\n",
    "        \n",
    "        ai_blog_dict = json.dumps(ai_blog, indent=4)\n",
    "\n",
    "        \n",
    "        f.write(ai_blog_dict)\n",
    "        f.write('\\n')\n"
   ]
  },
  {
   "cell_type": "markdown",
   "metadata": {},
   "source": []
  },
  {
   "cell_type": "code",
   "execution_count": null,
   "id": "67b13e58",
   "metadata": {},
   "outputs": [],
   "source": []
  }
 ],
 "metadata": {
  "kernelspec": {
   "display_name": "Python 3 (ipykernel)",
   "language": "python",
   "name": "python3"
  },
  "language_info": {
   "codemirror_mode": {
    "name": "ipython",
    "version": 3
   },
   "file_extension": ".py",
   "mimetype": "text/x-python",
   "name": "python",
   "nbconvert_exporter": "python",
   "pygments_lexer": "ipython3",
   "version": "3.11.4"
  }
 },
 "nbformat": 4,
 "nbformat_minor": 5
}
